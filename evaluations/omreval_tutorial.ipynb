{
 "cells": [
  {
   "cell_type": "markdown",
   "metadata": {},
   "source": [
    "# Further Steps Towards a Standard Testbed for Optical Music Recognition\n",
    "\n",
    "This Notebook serves as a replication guide for the experiments with OMR evaluation described in the publication \"Further Steps Towards a Standard Testbed for Optical Music Recognition\" by Hajič jr., Novotný, Pecina and Pokorný, ISMIR 2016.\n",
    "\n",
    "The following scenarios will be shown:\n",
    "\n",
    "* Measuring inter-annotator agreement (Replicating Fig. 1 in the article) on human judgment data\n",
    "* Evaluating an automated OMR evaluation metric against the human judgment data\n",
    "\n",
    "\n",
    "\n",
    "## Requirements\n",
    "\n",
    "To successfully replicate our results, you will need:\n",
    "\n",
    "* bash+git (to clone this repository)\n",
    "* Python 2.7.11 + scientific stack (numpy, scipy, matplotlib -- we recommend using Anaconda)\n",
    "\n",
    "We recommend using Anaconda and setting up a separate virtual environment with the ``conda`` tool, so that replicating our setup does not interfere with your own work.\n",
    "\n",
    "Further Python packages you will need to use our implementations of the proposed automated OMR evaluation metrics:\n",
    "\n",
    "* Levenshtein (implements Levenshtein distance)\n",
    "* zss (implements tree edit distance)\n",
    "\n",
    "To run the **Ly** evaluation metric script, you will need to install:\n",
    "\n",
    "* LilyPond (an open-source music typesetting software based on LaTeX/Scheme)\n",
    "\n",
    "Other software we used, but you will not need in this tutorial:\n",
    "\n",
    "* MuseScore 2.0.2 (an open-source music notation editor)\n",
    "\n",
    "\n",
    "### Our code\n",
    "\n",
    "The evaluation code is in package `omreval`, in `evaluations/code/`. To install, we recommend using `pip wheel` and `pip install`."
   ]
  },
  {
   "cell_type": "markdown",
   "metadata": {},
   "source": [
    "## Measuring inter-annotator agreement on human judgment data\n",
    "\n",
    "In this section, we will compute inter-annotator agreement metrics ($L$, $L_w$ and $\\hat{L}_w$ in the paper), reconstructing Figure 1 from the paper. We will gradually refine the computation to get a better idea of the extent to which we can trust the annotated test case corpus to give us useful and reliable estimates of the relative cost-to-correct for the test cases.\n",
    "\n",
    "### Why not kappa?\n",
    "\n",
    "The most frequent measure for inter-annotator agreement is Cohen's kappa and similar metrics (Fleisch's kappa, Krippendorf's alpha). However, these require estimating the probability of chance agreement, which in turn requires\n",
    "placing a prior on the probability that a given pair of \"system outputs\" is equally bad, for all intents and purposes. We have nothing to base this estimate on: for most of the pairs, we have little prior idea about whether they are easy or difficult to rank. \n",
    "\n",
    "(We have an idea for some of them, especially the longer ones that differ merely by the amount of mangling done; they are in the corpus mainly to ensure that any metric that behaves sensibly on small-scale examples will also behave sensibly on larger scales. However, this is still just 15 of the overall 82 non-control test cases, so the maximum entropy prior estimate for certain vs uncertain Bernoulli distribution is still ((82 - 15) / 82) * 0.5, which is about 0.4... But at this point, we still need some probabilistic model of the annotation. We will come back to this later.)"
   ]
  },
  {
   "cell_type": "markdown",
   "metadata": {},
   "source": [
    "## Preparing the annotation data\n",
    "\n",
    "Throughout the rest of the Notebook, we will assume you `cd` to the `supplementary/evaluations` directory.\n",
    "Just change the following line accordingly."
   ]
  },
  {
   "cell_type": "code",
   "execution_count": 2,
   "metadata": {
    "collapsed": false
   },
   "outputs": [
    {
     "name": "stdout",
     "output_type": "stream",
     "text": [
      "/Users/hajicj/mhr/publications/ismir2016/supplementary/evaluations\n"
     ]
    }
   ],
   "source": [
    "cd ~/mhr/publications/ismir2016/supplementary/evaluations"
   ]
  },
  {
   "cell_type": "code",
   "execution_count": 3,
   "metadata": {
    "collapsed": true
   },
   "outputs": [],
   "source": [
    "import omreval.process_annotations as pa\n",
    "annots = pa.read_annotations('annotations/annotations.csv')\n",
    "\n",
    "import numpy\n",
    "import scipy.stats\n",
    "import matplotlib.pyplot as plt\n",
    "\n",
    "# Use this for plots to appear inside the Jupyter Notebook.\n",
    "%matplotlib inline"
   ]
  },
  {
   "cell_type": "markdown",
   "metadata": {},
   "source": [
    "First, we will need to filter out annotations that cannot be used: control cases and the work of annotators who did not complete the full set.\n",
    "\n",
    "We will first filter out annotators who did not do 99 or 100 items (there was a bug in the server code which dropped the last annotation for 3 annotators)."
   ]
  },
  {
   "cell_type": "code",
   "execution_count": 4,
   "metadata": {
    "collapsed": false
   },
   "outputs": [
    {
     "name": "stdout",
     "output_type": "stream",
     "text": [
      "A01.1:\t100\n",
      "A02.1:\t100\n",
      "A03.1:\t100\n",
      "A03.2:\t100\n",
      "A04.1:\t100\n",
      "A05.1:\t100\n",
      "A06.2:\t100\n",
      "A07.1:\t99\n",
      "A08.1:\t100\n",
      "A09.1:\t100\n",
      "A10.1:\t100\n",
      "A11.1:\t100\n",
      "A11.2:\t99\n",
      "A12.1:\t99\n",
      "A13.1:\t100\n"
     ]
    }
   ],
   "source": [
    "annots_per_user = pa.collect_per_annotator(annots)\n",
    "full_annots = pa.reconstruct_from_per_annotator(annots_per_user,\n",
    "                                                names=[n for n in annots_per_user\n",
    "                                                       if pa.get_n_rankings(annots_per_user[n]) > 98],\n",
    "                                                exclude=False)\n",
    "\n",
    "full_per_user = pa.collect_per_annotator(full_annots)\n",
    "for n in sorted(full_per_user.keys()):\n",
    "    print '{0}:\\t{1}'.format(n, pa.get_n_rankings(annots_per_user[n]))"
   ]
  },
  {
   "cell_type": "markdown",
   "metadata": {},
   "source": [
    "Next, we need to filter out the control group."
   ]
  },
  {
   "cell_type": "code",
   "execution_count": 5,
   "metadata": {
    "collapsed": true
   },
   "outputs": [],
   "source": [
    "ctrl_annots = pa.extract_control_group(full_annots, exclude=False)\n",
    "noctrl_annots = pa.extract_control_group(full_annots, exclude=True)"
   ]
  },
  {
   "cell_type": "markdown",
   "metadata": {},
   "source": [
    "Now, we have narrowed down the full annotation data to the subset usable for reporting agreement."
   ]
  },
  {
   "cell_type": "markdown",
   "metadata": {},
   "source": [
    "## Overall agreement levels\n",
    "\n",
    "First, we can look at the distribution of inter-annotator agreement on the test cases.\n",
    "\n",
    "We represent votes for the first of a pair of system outputs in an example as `-1.0`, and votes for the second system output as `1.0`. Then, if we compute the average vote for an item, its absolute value will correlate with the strength of annotator consensus. If we plot the histogram of these averages, we will see how certain overall the annotators were.\n",
    "\n",
    "If the level of certainty turns out very low (mostly close to 0), it's a bad thing: there is no clear difference in the cost-to-correct of the test cases. If the average level of certainty is close to 1, on the other hand, it means our examples were mostly trivial: there were few cases where it's genuinely hard to say which \"mangling\" was worse. This could imply that judging the relative cost-to-correct of various notation errors is trivial and there is a clear way of assigning this cost, or -- worse -- it would mean that we selected only trivial examples that do not really touch the interesting \"gray zone\".\n",
    "\n",
    "Let's collect the item-wise average ranks and their absolute values, which can be used as a simple measure of certainty.\n"
   ]
  },
  {
   "cell_type": "code",
   "execution_count": 6,
   "metadata": {
    "collapsed": true
   },
   "outputs": [],
   "source": [
    "iwa = pa.item_wise_averages(noctrl_annots)"
   ]
  },
  {
   "cell_type": "markdown",
   "metadata": {},
   "source": [
    "**Technical note:** Because of the 3 annotators whose last response was not recorded,\n",
    "there are some erratic consensus strengths outside the 8 possible consensus strengths\n",
    "of 15 votes (0 vs 15, 1 vs 14, ..., 7 vs 8), as some items have only 14 (or 13, or 12)\n",
    "responses. Just for plotting purposes, we'll find them and leave them out."
   ]
  },
  {
   "cell_type": "code",
   "execution_count": 7,
   "metadata": {
    "collapsed": true
   },
   "outputs": [],
   "source": [
    "examples = pa.flatten_annots_to_examples(noctrl_annots)  # Flattens the data structure.\n",
    "not_full_examples = {e: r for e, r in examples.iteritems() if len(r) < 15}\n",
    "\n",
    "iwa_examples = pa.flatten_annots_to_examples(iwa)\n",
    "iwa_full_examples = {e: i for e, i in iwa_examples.iteritems() if e not in not_full_examples}"
   ]
  },
  {
   "cell_type": "code",
   "execution_count": 8,
   "metadata": {
    "collapsed": false
   },
   "outputs": [
    {
     "data": {
      "image/png": "[encoded data removed]",
      "text/plain": [
       "<matplotlib.figure.Figure at 0x106250090>"
      ]
     },
     "metadata": {},
     "output_type": "display_data"
    }
   ],
   "source": [
    "iwa_abs_values = numpy.abs(numpy.array(iwa_full_examples.values()))\n",
    "_, _, _ = plt.hist(iwa_abs_values, 100) # Just use a lot of bins, we'll see the relevant information anyway.\n",
    "plt.show()"
   ]
  },
  {
   "cell_type": "markdown",
   "metadata": {},
   "source": [
    "We see that the distribution of annotator consensus strength is roughly uniform, with a slight increase at the more certain tail. This is perhaps slightly less overall agreement than we would ideally like, but it is nevertheless not disastrous.\n",
    "\n",
    "Let's explore further: what are the agreement patterns? Is disagreement caused mostly by a few annotators, or is it scattered throughout more or less randomly?\n",
    "\n",
    "We will turn to measuring pairwise agreement. However, because we will have to start using some formulae, let's first define some notation."
   ]
  },
  {
   "cell_type": "markdown",
   "metadata": {},
   "source": [
    "## Notation\n",
    "\n",
    "The test case corpus $C$ is composed of individual test cases $c_1 \\dots c_N \\in C$. The number of test cases is $N$.\n",
    "Each test case $c_i$ is composed of an *ideal* score $I_i$ and two \"mangled\" system outputs, $P_i^{(1)}$ and $P_i^{(2)}$. Formally: $c_i = \\left< I_i, P_i^{(1)}, P_i^{(2)} \\right>$\n",
    "\n",
    "We have a set $\\mathcal{A}$ of $K$ annotators $a_1 \\dots a_K$. We asked them for each $c_i \\in C$ to choose which of the $P_i^{(1)}, P_i^{(2)}$ is less mangled, given that the correct recognition would have been $I_i$. This is formalized for an annotator $a$ as assigning $r_a(c_i) = -1$ if they preferred $P_i^{(1)}$ and $r_a(c_i) = 1$ if they preferred $P_i^{(2)}$. The letter $r$ stands for \"rank\". The average rank given by a subset $\\mathcal{G}$ of annotators to example $c$ is denoted as $r_{\\mathcal{G}}(c)$, with $r_{\\mathcal{A}}(c)$ is being the average over all annotators.\n",
    "\n",
    "To recap:\n",
    "\n",
    "* $c_1, \\dots, c_N \\in C$ are the test cases in the corpus,\n",
    "* Each test case $c_i = \\left< I_i, P_i^{(1)}, P_i^{(2)} \\right>$,\n",
    "* The annotators $a_1 \\dots a_K$ assign a $-1$ or $+1$ to each $c_i$, and denote this assignment $r_a(c_i)$. \n",
    "  The average rank over a subset $\\mathcal{G}$ of annotators is denoted $r_{\\mathcal{G}}(c_i)$."
   ]
  },
  {
   "cell_type": "markdown",
   "metadata": {},
   "source": [
    "\n",
    "## Obtaining the agreement matrix\n",
    "\n",
    "One elementary thing we can do is compute the agreement matrix: for each pair of annotators, measure the proportion of test cases where they agree with each other. To get this number for a single pair of annotators, we can use the `pa.pairwise_agreement()` function.\n",
    "\n",
    "This will help us assess whether we can trust our annotators, and to what extent can we trust each one.\n",
    "In turn, we will know how much confidence we can have in our data.\n",
    "If we find out that most disagreement is confined to several low-quality annotators, we can have much greater\n",
    "confidence in our findings once we filter them out, for instance. (Not that not enough effort is the only cause of such extensive disagreements an annotator could have with the others!)\n",
    "\n",
    "The formula for the agreement score of annotators `a` and `b` is then:\n",
    "\n",
    "$$\n",
    "L(a, b) = \\frac{1}{N} \\sum_{c \\in C} \\frac{\\lvert r_a(c) + r_b(c) \\rvert}{2}\n",
    "$$ \n",
    "\n",
    "which is simply the proportion of test cases the given annotators agree on: each term in the sum is either 1 if both annotators agree, or 0 if they don't."
   ]
  },
  {
   "cell_type": "code",
   "execution_count": 9,
   "metadata": {
    "collapsed": true
   },
   "outputs": [],
   "source": [
    "names = sorted(pa.collect_per_annotator(noctrl_annots).keys())\n",
    "K = len(names)\n",
    "\n",
    "agreement_matrix = numpy.zeros((K, K))\n",
    "for i, n in enumerate(names):\n",
    "    for j, m in enumerate(names):\n",
    "        a = pa.pairwise_agreement(n, m, noctrl_annots)\n",
    "        agreement_matrix[i, j] = a"
   ]
  },
  {
   "cell_type": "markdown",
   "metadata": {},
   "source": [
    "Since we will be plotting more agreement matrices, let's define a shortcut:"
   ]
  },
  {
   "cell_type": "code",
   "execution_count": 10,
   "metadata": {
    "collapsed": true
   },
   "outputs": [],
   "source": [
    "def show_agreement_matrix(m, names=None):\n",
    "    plt.imshow(m, interpolation='nearest')\n",
    "\n",
    "    if names is not None:\n",
    "        # Let's label the axes by annotator...\n",
    "        ax = plt.gca()\n",
    "        ax.set_yticks(range(K))\n",
    "        ax.set_yticklabels(names)\n",
    "\n",
    "    plt.colorbar()\n",
    "    plt.show()"
   ]
  },
  {
   "cell_type": "markdown",
   "metadata": {},
   "source": [
    "And visualize the trivial case:"
   ]
  },
  {
   "cell_type": "code",
   "execution_count": 11,
   "metadata": {
    "collapsed": false
   },
   "outputs": [
    {
     "data": {
      "image/png": "[encoded data removed]",
      "text/plain": [
       "<matplotlib.figure.Figure at 0x1147cf1d0>"
      ]
     },
     "metadata": {},
     "output_type": "display_data"
    }
   ],
   "source": [
    "show_agreement_matrix(agreement_matrix, names=names)"
   ]
  },
  {
   "cell_type": "markdown",
   "metadata": {},
   "source": [
    "The diagonal is 1.0 and we can clearly see that the two annotators who went through the data twice (A03 and A11) do agree with themselves more than with other people."
   ]
  },
  {
   "cell_type": "markdown",
   "metadata": {},
   "source": [
    "### Weighed agreement\n",
    "\n",
    "However, this way of counting agreement doesn't take into account that some disagreement is genuine.\n",
    "That is: if annotator A doesn't agree with B on an item where annotators C - Z *do* agree, then it is\n",
    "probably not a genuinely difficult . On the other hand, if A and B don't agree on an item \n",
    "where C - Z are split roughly 50:50, it's probable that the system outputs are more or less just as bad,\n",
    "and that annotators are picking one over the other rather randomly.\n",
    "\n",
    "What if we tried weighing the individual examples by how strongly the other annotators agree?\n",
    "\n",
    "Let's define *weighed* agreement:\n",
    "\n",
    "$$\n",
    "L_w(a, b) = \\frac{1}{N} \\sum_{c \\in C} w^{(-a,b)}(c) \\frac{\\lvert r_a(c) + r_b(c) \\rvert}{2}\n",
    "$$\n",
    "\n",
    "where the weights $w_i^{(-a,b)}$ is the strength of the consensus of the other annotators $a \\in A \\setminus a, b$:\n",
    "\n",
    "$$\n",
    "w^{(-a,b)}(c) = \\frac{1}{K - 2} \\lvert \\sum_{a' \\in A \\setminus a, b} r_{a'}(c) \\rvert\n",
    "$$\n",
    "\n",
    "This way, disagreements in the sum in $L_w$ where consensus is weak count less than where the consensus is weak.\n",
    "\n",
    "When computing the weights, notice that we do not include the votes of $a$ and $b$ in the consensus. (In case consensus is strong, we also do not care in $L_w$ if the annotators agree with it or not. This is a weakness we will remedy later.)"
   ]
  },
  {
   "cell_type": "code",
   "execution_count": 12,
   "metadata": {
    "collapsed": false
   },
   "outputs": [
    {
     "data": {
      "image/png": "[encoded data removed]",
      "text/plain": [
       "<matplotlib.figure.Figure at 0x106224810>"
      ]
     },
     "metadata": {},
     "output_type": "display_data"
    }
   ],
   "source": [
    "weighed_agreement_matrix = numpy.zeros((K, K))\n",
    "for i, n in enumerate(names):\n",
    "    for j, m in enumerate(names):\n",
    "        a = pa.pairwise_agreement(n, m, noctrl_annots, weighed=True)\n",
    "        weighed_agreement_matrix[i, j] = a\n",
    "\n",
    "show_agreement_matrix(weighed_agreement_matrix, names=names)"
   ]
  },
  {
   "cell_type": "markdown",
   "metadata": {},
   "source": [
    "Three significant things happened:\n",
    "\n",
    "* The range of agreement values has shrunk considerably.\n",
    "* The values on the diagonal started to differ.\n",
    "* We are starting to see some annotator groups more clearly (annotators A01 - A05, A09, A10, A12 vs. the rest, which \n",
    "  doesn't agree too much with anyone)\n",
    "  \n",
    "Regarding 1, this is quite expected: since $w_i^{(a,b)} \\leq 1$, it follows that $L_w(a,b) \\leq L(a,b)$. However, no. 2 is a bit more problematic. While $L(a, b) \\leq 1$, because the weight computation excludes $a$ and $b$, the self-agreement is weighed differently for each $a, b$ pair of annotators. We should complement the weighed agreement by a version that is normalized to have a maximum of 1."
   ]
  },
  {
   "cell_type": "markdown",
   "metadata": {},
   "source": [
    "### Normalized weighed agreement\n",
    "\n",
    "Looking at the formula for $L_w$, we can re-normalize quite easily. In $L$, the term $\\frac{1}{N}$ is the inverse of the sum of maximum contributions of the individual items. We can swap $N$ for $\\sum_{c \\in C} w^{(-a,b)}(c)$. (This is the same as computing $L_w(a, a)$, so we don't have to implement anything new.)"
   ]
  },
  {
   "cell_type": "code",
   "execution_count": 13,
   "metadata": {
    "collapsed": false
   },
   "outputs": [
    {
     "data": {
      "image/png": "[encoded data removed]",
      "text/plain": [
       "<matplotlib.figure.Figure at 0x10623da90>"
      ]
     },
     "metadata": {},
     "output_type": "display_data"
    }
   ],
   "source": [
    "weighed_normalized_agreement_matrix = numpy.zeros((K, K))\n",
    "for i, n in enumerate(names):\n",
    "    self_agreement = pa.pairwise_agreement(n, n, noctrl_annots, weighed=True)\n",
    "    for j, m in enumerate(names):\n",
    "        a = pa.pairwise_agreement(n, m, noctrl_annots, weighed=True)\n",
    "        weighed_normalized_agreement_matrix[i, j] = a / self_agreement\n",
    "\n",
    "show_agreement_matrix(weighed_normalized_agreement_matrix, names=names)"
   ]
  },
  {
   "cell_type": "markdown",
   "metadata": {},
   "source": [
    "**And so we get close to Fig. 1 in the article.**\n",
    "\n",
    "The agreement patterns have now become quite prominent. (At least we think so.) \n",
    "\n",
    "The interpretation of the numbers is: if we take the level of certainty achieved by the other annotators as the *maximum achievable certainty* on the given data, this the proportion of \"expected\" agreement that the annotators $a, b$ have achieved.\n",
    "\n",
    "The difference between this figure and Fig. 1 in the article is that in the article, we also estimated the random baseline $\\hat{L}_w$ by generating 10 \"random annotators\". We then used the average agreement among the random annotators as the lower end of the scale, which came out to some 0.55, so the colors in the article are slightly less blue."
   ]
  },
  {
   "cell_type": "markdown",
   "metadata": {},
   "source": [
    "## How to assess an evaluation metric?\n",
    "\n",
    "If you have your own metric, follow the instructions in `evaluations/README.md` to create a costs file.\n",
    "We will be using the cost files here from our own metrics in `evaluations/costs`."
   ]
  },
  {
   "cell_type": "code",
   "execution_count": 14,
   "metadata": {
    "collapsed": true
   },
   "outputs": [],
   "source": [
    "costs = pa.read_costs('./costs/costs_treedist-zss-Levenshtein.csv')"
   ]
  },
  {
   "cell_type": "markdown",
   "metadata": {},
   "source": [
    "We have costs $\\mathcal{L}$ for individual system outputs, but we have annotations for *pairs* of system outputs. To measure correlation of the cost function with the annotations, we need to convert the cost into the differences format. The annotations give us a number between $-1$ and $1$, where $-1$ is unanimous preference for the first of the pair and $1$ is preference for the second. To mirror this setup, for a test case $c_i = \\left< I_i, P_i^{(1)}, P_i^{(2)} \\right>$, we compute:\n",
    "\n",
    "$$\\mathcal{L}_{diff}(c_i) = \\mathcal{L}(P_i^{(1)}) - \\mathcal{L}(P_i^{(2)})$$\n",
    "\n",
    "This is negative when the cost of the first example is *lower* than the second, reflecting a preference for the first.\n",
    "We can then compute the correlation between $\\mathcal{L}_{diff}$ and $r_{\\mathcal{A}}$ over the corpus $C$. This process is implemented in the `costs2metrics()` function in the `process_annotation`  module."
   ]
  },
  {
   "cell_type": "code",
   "execution_count": 15,
   "metadata": {
    "collapsed": false
   },
   "outputs": [
    {
     "name": "stdout",
     "output_type": "stream",
     "text": [
      "Spearman: 0.57\n",
      "Pearson: 0.40\n",
      "Kendall: 0.43\n"
     ]
    }
   ],
   "source": [
    "spearman, pearson, kendall = pa.costs2metrics(costs, iwa)  \n",
    "# Note that the control cases have already been filtered from iwa, so they do not get included in the computation.\n",
    "print 'Spearman: {0:.2f}\\nPearson: {1:.2f}\\nKendall: {2:.2f}'.format(spearman, pearson, kendall)"
   ]
  },
  {
   "cell_type": "markdown",
   "metadata": {},
   "source": [
    "However, because we are measuring these numbers against the imperfect annotations, we do not know\n",
    "how to interpret these numbers: how good are they? They are not very good in absolute terms, but as the ideal cannot be 1.0, because the annotators themselves have disagreements about relative cost, what can we reasonably expect to achieve? \n",
    "\n",
    "We could measure, for instance, what the correlation coefficients would turn out to be if our cost function was another group of human annotators. This should give us the upper limit achievable with the given annotations, with the cost difference $\\mathcal{L}^*_{diff} = r_{\\mathcal{A}}$.\n",
    "\n",
    "To estimate how much new annotators would agree with the old ones, we randomly split our annotators into two evenly sized groups and measure correlations between these two groups. We repeat the split 1000 times to get a number we can be more confident in."
   ]
  },
  {
   "cell_type": "code",
   "execution_count": 16,
   "metadata": {
    "collapsed": true
   },
   "outputs": [],
   "source": [
    "N_GROUPS_SAMPLED = 1000  # Reasonable minimum\n",
    "GROUP_SIZE = K / 2\n",
    "\n",
    "import itertools\n",
    "import random\n",
    "\n",
    "all_groups = map(tuple, map(sorted, list(itertools.combinations(names, K / 2))))\n",
    "random.shuffle(all_groups)\n",
    "sample_groups = all_groups[:N_GROUPS_SAMPLED]"
   ]
  },
  {
   "cell_type": "markdown",
   "metadata": {},
   "source": [
    "For each split, we will measure the correlation between the consensus of the annotator groups."
   ]
  },
  {
   "cell_type": "code",
   "execution_count": 17,
   "metadata": {
    "collapsed": false
   },
   "outputs": [
    {
     "name": "stdout",
     "output_type": "stream",
     "text": [
      "Spearman:\t0.81\tdev: 0.04\n",
      "Pearson:\t0.81\tdev: 0.04\n",
      "Kendall:\t0.69\tdev: 0.04\n"
     ]
    }
   ],
   "source": [
    "spearman_per_group = {}\n",
    "pearson_per_group = {}\n",
    "kendall_per_group = {}\n",
    "\n",
    "for g in sample_groups:\n",
    "    # Get the item-wise averages for the group and the complement.\n",
    "    # (There's a function for filtering the data by annotator.)\n",
    "    g_iwa = pa.item_wise_averages(pa.filter_annotators(noctrl_annots, names=g, exclude=False))\n",
    "    g_prime_iwa = pa.item_wise_averages(pa.filter_annotators(noctrl_annots, names=g, exclude=True))\n",
    "    \n",
    "    # We can use the item-wise averages as the \"cost difference\" of some ideally scaled\n",
    "    # cost function. This just aligns the IWAs of the annotators in g and its complement\n",
    "    # into two numpy vectors, so that they can be directly fed into a correlation metric\n",
    "    # from scipy.\n",
    "    g_i, g_prime_i = pa.cost_diffs_vs_iwas(g_iwa, g_prime_iwa)\n",
    "    \n",
    "    # The correlation metrics give NaNs for samples with zero variance, so we\n",
    "    # need to introduce some epsilon.\n",
    "    if g_i.max() - g_i.min() == 0:\n",
    "        g_i_argmax = numpy.argmax(g_prime_i)\n",
    "        g_i[g_prime_argmax] += 0.00001\n",
    "    if g_prime_i.max() - g_prime_i.min() == 0:\n",
    "        g_argmax = numpy.argmax(g_i)\n",
    "        g_prime_i[g_argmax] += 0.00001\n",
    "    \n",
    "    # Now compute the correlation coefficients\n",
    "    spearman_per_group[g] = scipy.stats.spearmanr(g_i, g_prime_i).correlation\n",
    "    pearson_per_group[g] = scipy.stats.pearsonr(g_i, g_prime_i)[0]\n",
    "    kendall_per_group[g] = scipy.stats.kendalltau(g_i, g_prime_i).correlation\n",
    "\n",
    "# And finally average the values and get standard deviations\n",
    "s_values = numpy.array(spearman_per_group.values())\n",
    "spearman_average = numpy.average(s_values[numpy.isfinite(s_values)])\n",
    "spearman_stddev = numpy.std(s_values[numpy.isfinite(s_values)])\n",
    "\n",
    "p_values = numpy.array(pearson_per_group.values())\n",
    "pearson_average = numpy.average(p_values[numpy.isfinite(p_values)])\n",
    "pearson_stddev = numpy.std(p_values[numpy.isfinite(p_values)])\n",
    "\n",
    "k_values = numpy.array(kendall_per_group.values())\n",
    "kendall_average = numpy.average(k_values[numpy.isfinite(k_values)])\n",
    "kendall_stddev = numpy.std(k_values[numpy.isfinite(k_values)])\n",
    "\n",
    "print('Spearman:\\t{0:.2f}\\tdev: {1:.2f}\\nPearson:\\t{2:.2f}\\tdev: {3:.2f}\\nKendall:\\t{4:.2f}\\tdev: {5:.2f}'\n",
    "      ''.format(spearman_average, spearman_stddev, pearson_average, pearson_stddev, kendall_average, kendall_stddev))"
   ]
  },
  {
   "cell_type": "markdown",
   "metadata": {},
   "source": [
    "To get the correlation metrics relative to these expected upper bounds:"
   ]
  },
  {
   "cell_type": "code",
   "execution_count": 18,
   "metadata": {
    "collapsed": false
   },
   "outputs": [
    {
     "name": "stdout",
     "output_type": "stream",
     "text": [
      "Spearman: 0.70\n",
      "Pearson: 0.49\n",
      "Kendall: 0.63\n"
     ]
    }
   ],
   "source": [
    "spearman_rel_avg = spearman / spearman_average\n",
    "pearson_rel_avg = pearson / pearson_average\n",
    "kendall_rel_avg = kendall / kendall_average\n",
    "\n",
    "print 'Spearman: {0:.2f}\\nPearson: {1:.2f}\\nKendall: {2:.2f}'.format(spearman_rel_avg, pearson_rel_avg, kendall_rel_avg)"
   ]
  },
  {
   "cell_type": "markdown",
   "metadata": {},
   "source": [
    "It is apparent that there is still some way to go. It is worth seeing that the cost performs much worse in the Pearson coefficient than in the others. This might be because Pearson measures linear correlation, while the other coefficients only measure monotonicity. Recall that the way we estimated the achievable correlations, the cost differences $\\mathcal{L}^*_{diff}$ were ideally scaled: they both fell into the $\\left< -1, 1 \\right>$ range."
   ]
  },
  {
   "cell_type": "markdown",
   "metadata": {
    "collapsed": false
   },
   "source": [
    "## Extending the annotations\n",
    "\n",
    "If you wish to annotate our test case corpus, feel free to do so!\n",
    "The annotation server is available at \n",
    "\n",
    "http://quest.ms.mff.cuni.cz:6480/omreval/\n",
    "\n",
    "If you have your own examples and wish to have them annotated using our server,\n",
    "or if you want to run your own `omreval` server instance, get in touch at\n",
    "\n",
    "`hajicj@ufal.mff.cuni.cz`"
   ]
  }
 ],
 "metadata": {
  "kernelspec": {
   "display_name": "Python 2",
   "language": "python",
   "name": "python2"
  },
  "language_info": {
   "codemirror_mode": {
    "name": "ipython",
    "version": 2
   },
   "file_extension": ".py",
   "mimetype": "text/x-python",
   "name": "python",
   "nbconvert_exporter": "python",
   "pygments_lexer": "ipython2",
   "version": "2.7.11"
  }
 },
 "nbformat": 4,
 "nbformat_minor": 0
}
